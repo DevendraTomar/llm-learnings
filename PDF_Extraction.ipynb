{
  "nbformat": 4,
  "nbformat_minor": 0,
  "metadata": {
    "colab": {
      "provenance": [],
      "include_colab_link": true
    },
    "kernelspec": {
      "name": "python3",
      "display_name": "Python 3"
    },
    "language_info": {
      "name": "python"
    }
  },
  "cells": [
    {
      "cell_type": "markdown",
      "metadata": {
        "id": "view-in-github",
        "colab_type": "text"
      },
      "source": [
        "<a href=\"https://colab.research.google.com/github/DevendraTomar/llm-learnings/blob/main/PDF_Extraction.ipynb\" target=\"_parent\"><img src=\"https://colab.research.google.com/assets/colab-badge.svg\" alt=\"Open In Colab\"/></a>"
      ]
    },
    {
      "cell_type": "markdown",
      "source": [
        "## Overview\n",
        "\n",
        "This notebook demonstrates how to extract information about used cars from a PDF document using LangChain and Groq. It leverages the PyPDFLoader to load the document, ChatGroq as the language model, and a structured output schema (VehicleDetails) to organize the extracted data."
      ],
      "metadata": {
        "id": "-Hx7pGqbeZKD"
      }
    },
    {
      "cell_type": "markdown",
      "source": [
        "# Load Secrets"
      ],
      "metadata": {
        "id": "j0TWdfqLeKOn"
      }
    },
    {
      "cell_type": "code",
      "execution_count": null,
      "metadata": {
        "id": "Rl8HNC7BYsw5"
      },
      "outputs": [],
      "source": [
        "from google.colab import userdata\n",
        "import os\n",
        "os.environ[\"GOOGLE_API_KEY\"]=userdata.get('GOOGLE_API_KEY')\n",
        "os.environ[\"GROQ_API_KEY\"]=userdata.get('GROQ_API_KEY')"
      ]
    },
    {
      "cell_type": "markdown",
      "source": [
        "# Install Dependency"
      ],
      "metadata": {
        "id": "A7nUiTDGeOJv"
      }
    },
    {
      "cell_type": "code",
      "source": [
        "!pip install -qU pypdf langchain_community langchain-groq\n",
        "\n"
      ],
      "metadata": {
        "colab": {
          "base_uri": "https://localhost:8080/"
        },
        "id": "ubINzNPZZmBc",
        "outputId": "421376ed-a4d5-4501-a7dd-5950c8367337"
      },
      "execution_count": null,
      "outputs": [
        {
          "output_type": "stream",
          "name": "stdout",
          "text": [
            "\u001b[?25l   \u001b[90m━━━━━━━━━━━━━━━━━━━━━━━━━━━━━━━━━━━━━━━━\u001b[0m \u001b[32m0.0/121.9 kB\u001b[0m \u001b[31m?\u001b[0m eta \u001b[36m-:--:--\u001b[0m\r\u001b[2K   \u001b[90m━━━━━━━━━━━━━━━━━━━━━━━━━━━━━━━━━━━━━━━━\u001b[0m \u001b[32m121.9/121.9 kB\u001b[0m \u001b[31m4.8 MB/s\u001b[0m eta \u001b[36m0:00:00\u001b[0m\n",
            "\u001b[?25h"
          ]
        }
      ]
    },
    {
      "cell_type": "markdown",
      "source": [
        "# Load External Data Using Document Loader"
      ],
      "metadata": {
        "id": "RiNL18lgeU0E"
      }
    },
    {
      "cell_type": "code",
      "source": [
        "from langchain_community.document_loaders import PyPDFLoader\n"
      ],
      "metadata": {
        "id": "PsKLWH6caEuO"
      },
      "execution_count": null,
      "outputs": []
    },
    {
      "cell_type": "code",
      "source": [
        "file_path=\"/content/cars24.pdf\"\n",
        "loader = PyPDFLoader(file_path)\n"
      ],
      "metadata": {
        "id": "S9msapBwaJqw"
      },
      "execution_count": null,
      "outputs": []
    },
    {
      "cell_type": "code",
      "source": [
        "doc=loader.load()"
      ],
      "metadata": {
        "id": "IaSd1CE0aX3A"
      },
      "execution_count": null,
      "outputs": []
    },
    {
      "cell_type": "code",
      "source": [
        "doc[0].page_content"
      ],
      "metadata": {
        "id": "P5gsUHxyaZ20",
        "outputId": "c79f3486-063e-4ee2-b226-05363727d7ec",
        "colab": {
          "base_uri": "https://localhost:8080/",
          "height": 237
        }
      },
      "execution_count": null,
      "outputs": [
        {
          "output_type": "execute_result",
          "data": {
            "text/plain": [
              "'Know your car\\nRegularly Serviced\\nServiced every 10,000 km atauthorised service centre\\nCity Driven\\nCars driven for shorter trips incities\\nReg Year\\nAug 2010\\nMake Year\\n2010\\nRegNumber\\nBR01-AX6549\\nEngineCapacity\\n1197 cc\\nInsurance \\nComprehensive,Valid till Aug -2024\\nSpare key\\nYes\\nTransmission\\nManual\\nKM Driven\\n44,637 km\\nOwnership\\n1st owner\\nFuel Type\\nPetrol\\nInspection Report\\nWe aim to\\nprovide our\\ncustomers\\nwith a reliable\\ndrive. Every\\ncar we sell is\\nrefurbished by\\nexperts at our\\nMega\\nRefurbishment\\nLabs.\\nNon Accidental Non Tampered Non Flooded 140 Quality Checks\\nOVERVIEW •  12 EXTERIOR •  11 INTERIOR •  11 IMPERFECTIONS •  18\\nImperfections 18\\nMinor cosmetic imperfections are not repaired as they do not affectperformance, and reduces the cost of ownership\\nRepainted Parts 13\\nSome parts have been repainted for better aesthetics. However, we assurethe car is non-accidental\\nPerfect Parts\\nThoroughly tested and ready for the road as per CARS24 Quality Promise\\nTyres (Life Remaining)\\nFront: 84%, 86% Rear: 100%, 57% Spare: 100%\\nVIEW INSPECTION REPORT \\n2010 Maruti Ritz\\nLXI Manual\\n44 , 637\\nKM\\n1ST\\nOWNER PETROL BR -\\n01\\nHome Test Drive Available\\nParked at:Atal Path, Patna\\nViewInspection Report\\nGetService History Report\\n₹2 , 893/month\\nOn Zero down payment ₹ 1 . 48 Lakh\\nCHECK ELIGIBILITY   → UNDERSTAND PRICE   →\\n.\\nBOOK FREE TEST DRIVE\\nRIGHT FRONT DIAGONAL 1 / 12\\nNeed help?\\nPatna BUY A CAR SELL A CAR CAR FINANCE\\nHello, Signin\\nAccount'"
            ],
            "application/vnd.google.colaboratory.intrinsic+json": {
              "type": "string"
            }
          },
          "metadata": {},
          "execution_count": 17
        }
      ]
    },
    {
      "cell_type": "markdown",
      "source": [
        "#Extract Content"
      ],
      "metadata": {
        "id": "Zot3QumkeGhT"
      }
    },
    {
      "cell_type": "code",
      "source": [
        "# Ensure your VertexAI credentials are configured\n",
        "from langchain_groq import ChatGroq\n",
        "\n",
        "llm = ChatGroq(model=\"llama-3.3-70b-versatile\")\n"
      ],
      "metadata": {
        "id": "MQBF32IMaaln"
      },
      "execution_count": null,
      "outputs": []
    },
    {
      "cell_type": "code",
      "source": [
        "from langchain_core.prompts import ChatPromptTemplate\n",
        "\n",
        "prompt = \"\"\"You are an expert in used cars . You will be given a document by user for selling used cars. You are supposed to extract\n",
        "the attributes from a given document {doc} \"\"\"\n",
        "\n"
      ],
      "metadata": {
        "id": "ZowA3JLya1HW"
      },
      "execution_count": null,
      "outputs": []
    },
    {
      "cell_type": "code",
      "source": [
        "from typing import Optional\n",
        "from pydantic import BaseModel, Field\n",
        "\n",
        "class VehicleDetails(BaseModel):\n",
        "    reg_year: str = Field(..., description=\"The year in which the vehicle was officially registered.\")\n",
        "    make_year: Optional[str] = Field(None, description=\"The year the vehicle was manufactured or made by the manufacturer.\")\n",
        "    reg_number: str = Field(..., description=\"The unique registration number assigned to the vehicle by the registration authority.\")\n",
        "    engine_capacity: Optional[str] = Field(None, description=\"The displacement of the vehicle's engine, typically measured in liters (L) or cubic centimeters (cc).\")\n",
        "    cylinders: Optional[str] = Field(None, description=\"The number of cylinders present in the vehicle's engine.\")\n",
        "    insurance: Optional[str] = Field(None, description=\"Indicates the vehicle's insurance status, which could include details like the policy number or expiration date.\")\n",
        "    spare_key: Optional[str] = Field(None, description=\"Indicates whether the vehicle comes with a spare key.\")\n",
        "    transmission: Optional[str] = Field(None, description=\"The type of transmission the vehicle uses, such as automatic or manual.\")\n",
        "    km_driven: Optional[int] = Field(None, description=\"The total number of kilometers the vehicle has been driven, reflecting its usage and wear.\")\n",
        "    ownership: Optional[str] = Field(None, description=\"The number of owners the vehicle has had, which can indicate the vehicle's history.\")\n",
        "    fuel_type: Optional[str] = Field(None, description=\"The type of fuel the vehicle uses, such as petrol, diesel, or electric.\")\n",
        "    price: Optional[str] = Field(None, description=\"The price of the vehicle, which could be the current value or the listed sale price.\")\n",
        "    emi: Optional[str] = Field(None, description=\"The equated monthly installment (EMI) for financing the vehicle, if applicable.\")\n",
        "    no_seats: Optional[str] = Field(None, description=\"The number of seats available in the vehicle for passengers.\")\n",
        "    boot_space: Optional[str] = Field(None, description=\"The available boot or trunk space in the vehicle, usually measured in liters.\")\n"
      ],
      "metadata": {
        "id": "KxQ55ecUbk_U"
      },
      "execution_count": null,
      "outputs": []
    },
    {
      "cell_type": "code",
      "source": [
        "resp=llm.with_structured_output(VehicleDetails).invoke(prompt.format(doc=doc[0].page_content))"
      ],
      "metadata": {
        "id": "4HRTXlm4cy3D"
      },
      "execution_count": null,
      "outputs": []
    },
    {
      "cell_type": "code",
      "source": [
        "for k,v in resp.dict().items():\n",
        "  print(k,v)"
      ],
      "metadata": {
        "colab": {
          "base_uri": "https://localhost:8080/"
        },
        "id": "N59uUSaMc4o0",
        "outputId": "5efa5a95-3110-4d68-ef5a-fdf2c7e3aba7"
      },
      "execution_count": null,
      "outputs": [
        {
          "output_type": "stream",
          "name": "stdout",
          "text": [
            "reg_year 2010\n",
            "make_year 2010\n",
            "reg_number BR01-AX6549\n",
            "engine_capacity 1197 cc\n",
            "cylinders None\n",
            "insurance Comprehensive, Valid till Aug-2024\n",
            "spare_key Yes\n",
            "transmission Manual\n",
            "km_driven 44637\n",
            "ownership 1st owner\n",
            "fuel_type Petrol\n",
            "price ₹1.48 Lakh\n",
            "emi ₹2,893/month\n",
            "no_seats None\n",
            "boot_space None\n"
          ]
        },
        {
          "output_type": "stream",
          "name": "stderr",
          "text": [
            "<ipython-input-48-04c852b6f42a>:1: PydanticDeprecatedSince20: The `dict` method is deprecated; use `model_dump` instead. Deprecated in Pydantic V2.0 to be removed in V3.0. See Pydantic V2 Migration Guide at https://errors.pydantic.dev/2.10/migration/\n",
            "  for k,v in resp.dict().items():\n"
          ]
        }
      ]
    },
    {
      "cell_type": "markdown",
      "source": [
        "#Load Pyspark"
      ],
      "metadata": {
        "id": "9Ltgf899dSGy"
      }
    },
    {
      "cell_type": "code",
      "source": [
        "from pyspark.sql import SparkSession"
      ],
      "metadata": {
        "id": "GfHTyUp-ezWa"
      },
      "execution_count": null,
      "outputs": []
    },
    {
      "cell_type": "code",
      "source": [
        "spark=SparkSession.builder.getOrCreate()"
      ],
      "metadata": {
        "id": "mH3d-3bee13f"
      },
      "execution_count": null,
      "outputs": []
    },
    {
      "cell_type": "code",
      "source": [
        "from pyspark.sql import SparkSession\n",
        "from pyspark.sql.types import StructType, StructField, StringType\n",
        "\n",
        "# Initialize SparkSession with Hive support\n",
        "spark = SparkSession.builder \\\n",
        "    .appName(\"VehicleDetails\") \\\n",
        "    .enableHiveSupport() \\\n",
        "    .getOrCreate()\n",
        "\n",
        "# Define the schema for the VehicleDetails table\n",
        "vehicle_details_schema = StructType([\n",
        "    StructField(\"reg_year\", StringType(), True),            # Year of registration (Optional)\n",
        "    StructField(\"make_year\", StringType(), True),           # Year of manufacture (Optional)\n",
        "    StructField(\"reg_number\", StringType(), True),          # Registration number (Optional)\n",
        "    StructField(\"engine_capacity\", StringType(), True),     # Engine capacity (Optional)\n",
        "    StructField(\"cylinders\", StringType(), True),           # Number of cylinders (Optional)\n",
        "    StructField(\"insurance\", StringType(), True),           # Insurance details (Optional)\n",
        "    StructField(\"spare_key\", StringType(), True),           # Spare key available (Optional)\n",
        "    StructField(\"transmission\", StringType(), True),        # Transmission type (Optional)\n",
        "    StructField(\"km_driven\", StringType(), True),           # Kilometers driven (Optional)\n",
        "    StructField(\"ownership\", StringType(), True),           # Ownership history (Optional)\n",
        "    StructField(\"fuel_type\", StringType(), True),           # Fuel type (Optional)\n",
        "    StructField(\"price\", StringType(), True),               # Price (Optional)\n",
        "    StructField(\"emi\", StringType(), True),                 # EMI details (Optional)\n",
        "    StructField(\"no_seats\", StringType(), True),            # Number of seats (Optional)\n",
        "    StructField(\"boot_space\", StringType(), True)           # Boot space (Optional)\n",
        "])\n",
        "df=spark.createDataFrame([resp.dict()],schema=vehicle_details_schema)\n"
      ],
      "metadata": {
        "colab": {
          "base_uri": "https://localhost:8080/"
        },
        "id": "FIHQAbc7e3bU",
        "outputId": "74c95e83-1df0-43e6-8349-ae1ffbaed31a"
      },
      "execution_count": null,
      "outputs": [
        {
          "output_type": "stream",
          "name": "stderr",
          "text": [
            "<ipython-input-35-8a9f4e248873>:28: PydanticDeprecatedSince20: The `dict` method is deprecated; use `model_dump` instead. Deprecated in Pydantic V2.0 to be removed in V3.0. See Pydantic V2 Migration Guide at https://errors.pydantic.dev/2.10/migration/\n",
            "  df=spark.createDataFrame([resp.dict()],schema=vehicle_details_schema)\n"
          ]
        }
      ]
    },
    {
      "cell_type": "code",
      "source": [
        "df.show()"
      ],
      "metadata": {
        "colab": {
          "base_uri": "https://localhost:8080/"
        },
        "id": "K-xZ89gZe6WR",
        "outputId": "16a9d78f-5326-40cb-ff38-337de2e5d729"
      },
      "execution_count": null,
      "outputs": [
        {
          "output_type": "stream",
          "name": "stdout",
          "text": [
            "+--------+---------+-----------+---------------+---------+--------------------+---------+------------+---------+---------+---------+----------+------------+--------+----------+\n",
            "|reg_year|make_year| reg_number|engine_capacity|cylinders|           insurance|spare_key|transmission|km_driven|ownership|fuel_type|     price|         emi|no_seats|boot_space|\n",
            "+--------+---------+-----------+---------------+---------+--------------------+---------+------------+---------+---------+---------+----------+------------+--------+----------+\n",
            "|    2010|     2010|BR01-AX6549|        1197 cc|     NULL|Comprehensive, Va...|      Yes|      Manual|44,637 km|1st owner|   Petrol|₹1.48 Lakh|₹2,893/month|    NULL|      NULL|\n",
            "+--------+---------+-----------+---------------+---------+--------------------+---------+------------+---------+---------+---------+----------+------------+--------+----------+\n",
            "\n"
          ]
        }
      ]
    },
    {
      "cell_type": "code",
      "source": [],
      "metadata": {
        "id": "VGZAGHvXfX0I"
      },
      "execution_count": null,
      "outputs": []
    }
  ]
}